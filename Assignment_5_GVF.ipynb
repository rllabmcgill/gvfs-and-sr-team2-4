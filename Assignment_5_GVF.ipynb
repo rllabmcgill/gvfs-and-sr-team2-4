{
  "nbformat": 4,
  "nbformat_minor": 0,
  "metadata": {
    "colab": {
      "name": "Assignment 5 - GVF.ipynb",
      "version": "0.3.2",
      "views": {},
      "default_view": {},
      "provenance": [],
      "collapsed_sections": []
    },
    "kernelspec": {
      "name": "python3",
      "display_name": "Python 3"
    }
  },
  "cells": [
    {
      "metadata": {
        "id": "bZEmFHASQubZ",
        "colab_type": "text"
      },
      "cell_type": "markdown",
      "source": [
        "# Assignment 5 - Track 2\n",
        "# Stéphanie Larocque et Philip Paquette\n",
        "\n",
        "## Q1 - Explain how SR can be expressed in the GVF framework (also see corresponding section in S&B if necessary). Expalin this connection using the GVF terminology: cumulant (this is not the notion of \"moments\" of a prob. distribution), termination condition, etc.\n",
        "\n",
        "------"
      ]
    },
    {
      "metadata": {
        "id": "RcpnWPimAVtB",
        "colab_type": "text"
      },
      "cell_type": "markdown",
      "source": [
        "From Sutton\\&Barto's book, the General Value Function (GVF) equation is:\n",
        "\n",
        "$$v_{\\pi,C, \\gamma}(s) = \\mathbb{E}\\left[\\sum\\limits_{k=t}^\\infty C_{k+1}\\prod_{j=t+1}^{k}\\gamma(S_i)\\ \\bigg|\\  S_t = s, A_{t:\\infty}\\sim \\pi\\right]$$\n",
        "\n",
        "If we remove the dependency on the state for the discount factor, and keep a constant discount factor, we obtain:\n",
        "\n",
        "\\begin{align*}\n",
        "\tv_{\\pi, C, \\gamma}(s) \n",
        "\t&= \\mathbb{E}\\left[\\sum\\limits_{k=t}^\\infty \\gamma^{k-t}C_{k+1}\\ \\bigg|\\  S_t = s, A_{t:\\infty}\\sim \\pi\\right]\\\\\n",
        "\t&= \\mathbb{E}\\left[C(S_{t+1}) +\\gamma\\cdot v_{\\pi, C, \\gamma}(S_{t+1})\\ \\bigg|\\  S_t = s, A_{t:\\infty}\\sim \\pi\\right]\n",
        "\\end{align*}\n",
        "$$$$\n",
        "\n",
        "The function $C$ is the cumulant function, or pseudo-reward. It can be written in matrix form as\n",
        "$$ v_{\\pi, C, \\gamma} = C_\\pi + \\gamma P_\\pi v_{\\pi, C, \\gamma} $$\n",
        "\n",
        "and thus\n",
        "$$ v_{\\pi, C, \\gamma} = (I + \\gamma P_\\pi)^{-1}C_\\pi $$\n",
        "\n",
        "\n",
        "\n",
        "We find the SR value function \n",
        "$$v_\\pi(s)=\\phi_\\pi(s)^T r_\\pi$$\n",
        "with $\\phi_\\pi(s)^T = (I + \\gamma P_\\pi)^{-1}$ and $r_\\pi = C_\\pi$. The Successor Representation is thus a special case of General Value Function where the cumulant function is the reward function and with a constant discocunted function $\\gamma$ as termination function."
      ]
    },
    {
      "metadata": {
        "id": "BU1J49eMGcaB",
        "colab_type": "text"
      },
      "cell_type": "markdown",
      "source": [
        "## Q2.1 - Learning SR"
      ]
    },
    {
      "metadata": {
        "id": "eBmpv47OVpNk",
        "colab_type": "code",
        "colab": {
          "autoexec": {
            "startup": false,
            "wait_interval": 0
          },
          "base_uri": "https://localhost:8080/",
          "height": 35
        },
        "outputId": "2c5bd1ff-49af-4040-839d-77a36986205b",
        "executionInfo": {
          "status": "ok",
          "timestamp": 1523236185729,
          "user_tz": 240,
          "elapsed": 2803,
          "user": {
            "displayName": "Philip Paquette",
            "photoUrl": "//lh6.googleusercontent.com/-DGrBTu2a2aw/AAAAAAAAAAI/AAAAAAAAANs/SZizZJUV1nA/s50-c-k-no/photo.jpg",
            "userId": "101375949079620784780"
          }
        }
      },
      "cell_type": "code",
      "source": [
        "! pip install numpy\n",
        "import random\n",
        "import numpy as np"
      ],
      "execution_count": 0,
      "outputs": [
        {
          "output_type": "stream",
          "text": [
            "Requirement already satisfied: numpy in /usr/local/lib/python3.6/dist-packages\r\n"
          ],
          "name": "stdout"
        }
      ]
    },
    {
      "metadata": {
        "id": "D0ElMvcPRL6R",
        "colab_type": "code",
        "colab": {
          "autoexec": {
            "startup": false,
            "wait_interval": 0
          },
          "base_uri": "https://localhost:8080/",
          "height": 503
        },
        "outputId": "161f3b30-8eed-4755-b5f2-f7bdf77d1114",
        "executionInfo": {
          "status": "ok",
          "timestamp": 1523236477154,
          "user_tz": 240,
          "elapsed": 2379,
          "user": {
            "displayName": "Philip Paquette",
            "photoUrl": "//lh6.googleusercontent.com/-DGrBTu2a2aw/AAAAAAAAAAI/AAAAAAAAANs/SZizZJUV1nA/s50-c-k-no/photo.jpg",
            "userId": "101375949079620784780"
          }
        }
      },
      "cell_type": "code",
      "source": [
        "import random\n",
        "import numpy as np\n",
        "np.set_printoptions(precision=1, suppress=True)\n",
        "\n",
        "# Track 2 - Q1\n",
        "\n",
        "# Simple Grid World\n",
        "#\n",
        "#  _  _  _  G           G = Goal (+1), W = Wall, P = Pit (-1)\n",
        "#  _  W  _  P\n",
        "#  _  _  _  _\n",
        "\n",
        "env_model = {\n",
        "    'cell_0_0': {'UP': [(1., 0, 'cell_1_0')],\n",
        "                 'RIGHT': [(1., 0, 'cell_0_1')]},\n",
        "    'cell_0_1': {\"RIGHT\": [(1., 0., \"cell_0_2\")],\n",
        "                 \"LEFT\": [(1., 0., \"cell_0_0\")]},\n",
        "    'cell_0_2': {\"UP\": [(1.0, 0., \"cell_1_2\")],\n",
        "                 \"RIGHT\": [(1.0, 0., \"cell_0_3\")],\n",
        "                 \"LEFT\": [(1.0, 0., \"cell_0_1\")]},\n",
        "    'cell_0_3': {\"UP\": [(1.0, 0., \"pit\")],\n",
        "                 \"LEFT\": [(1.0, 0., \"cell_0_2\")]},\n",
        "    'cell_1_0': {\"UP\": [(1.0, 0., \"cell_2_0\")],\n",
        "                 \"DOWN\": [(1.0, 0., \"cell_0_0\")]},\n",
        "    'cell_1_2': {\"UP\": [(1.0, 0., \"cell_2_2\")],\n",
        "                 \"RIGHT\": [(1.0, 0., \"pit\")],\n",
        "                 \"DOWN\": [(1.0, 0., \"cell_0_2\")]},\n",
        "    'pit': {\"EXIT\": [(1.0, -1., \"terminal\")]},\n",
        "    \"terminal\": {\"\": [(1., 0., \"terminal\")]},\n",
        "    'cell_2_0': {\"RIGHT\": [(1.0, 0., \"cell_2_1\")],\n",
        "                 \"DOWN\": [(1.0, 0., \"cell_1_0\")]},\n",
        "    'cell_2_1': {\"RIGHT\": [(1.0, 0., \"cell_2_2\")],\n",
        "                 \"LEFT\": [(1.0, 0., \"cell_2_0\")]},\n",
        "    'cell_2_2': {\"RIGHT\": [(1.0, 0., \"goal\")],\n",
        "                 \"LEFT\": [(1.0, 0., \"cell_2_1\")],\n",
        "                 \"DOWN\": [(1.0, 0., \"cell_1_2\")]},\n",
        "    'goal': {\"EXIT\": [(1.0, +1., \"terminal\")]}\n",
        "}\n",
        "GAMMA = 0.9\n",
        "ETA = 0.1\n",
        "\n",
        "def get_initial_policy(model):\n",
        "    \"\"\" Returns an initial policy that selects the first available action \"\"\"\n",
        "    policy = {}\n",
        "    for state in model:\n",
        "        policy[state] = [action for action in model[state]]\n",
        "    return policy\n",
        "\n",
        "def get_transition_matrix(model, policy):\n",
        "    \"\"\" Computes a transition matrix for a deterministic policy \"\"\"\n",
        "    nb_states = len(model)\n",
        "    T = np.zeros((nb_states, nb_states), dtype=np.float32)\n",
        "    list_states = sorted([state for state in model])\n",
        "\n",
        "    for state in model:\n",
        "        actions = policy[state]\n",
        "        for action in actions:\n",
        "            for prob, reward, next_state in model[state][action]:\n",
        "                s, s_ = list_states.index(state), list_states.index(next_state)\n",
        "                T[s, s_] = prob / len(actions)\n",
        "    return T\n",
        "\n",
        "def get_sr_td(model, policy, nb_trajectories=1000):\n",
        "    \"\"\" Computes the SR matrix using TD(0) \"\"\"\n",
        "    nb_states = len(model)\n",
        "    M = np.eye(nb_states)\n",
        "    list_states = sorted([state for state in model])\n",
        "    diag = np.eye(nb_states)\n",
        "\n",
        "    # Generating trajectories and performing TD(0)\n",
        "    for _ in range(nb_trajectories):\n",
        "        state = 'cell_0_0'\n",
        "        while True:\n",
        "            actions = policy[state]\n",
        "            action = random.choice(actions)\n",
        "            prob, reward, next_state = random.choice(model[state][action])\n",
        "\n",
        "            s = list_states.index(state)\n",
        "            s_ = list_states.index(next_state)\n",
        "            M[s, :] = M[s, :] + ETA * (diag[s] + GAMMA * M[s_, :] - M[s, :])\n",
        "\n",
        "            if state == 'terminal':\n",
        "                break\n",
        "            state = next_state\n",
        "\n",
        "    # Return M\n",
        "    return M\n",
        "\n",
        "def get_sr_calc(model, policy):\n",
        "    \"\"\" Computes the SR matrix using the formula \"\"\"\n",
        "    nb_states = len(model)\n",
        "    I = np.eye(nb_states)\n",
        "    T = get_transition_matrix(model, policy)\n",
        "    sr = np.linalg.inv(I - GAMMA * T)\n",
        "    return sr\n",
        "\n",
        "initial_pi = get_initial_policy(env_model)\n",
        "sr_calc = get_sr_calc(env_model, initial_pi)\n",
        "sr_td0 = get_sr_td(env_model, initial_pi, nb_trajectories=10000)\n",
        "\n",
        "print('TD 0')\n",
        "print(sr_td0)\n",
        "print()\n",
        "print('Calc')\n",
        "print(sr_calc)\n",
        "\n",
        "## ==============================================================\n",
        "#\n",
        "# Discussion\n",
        "#\n",
        "# From https://papers.nips.cc/paper/5340-design-principles-of-the-hippocampal-cognitive-map.pdf,\n",
        "# we have established that the TD(0) update rule is as follows:\n",
        "#\n",
        "# M(s,j) <-- M(s,j) + eta * [I{s=j} + gamma * M(s',j) - M(s,j)]\n",
        "#\n",
        "# We have implemented the TD(0) update rule and reach a matrix M that is very close to the exact solution.\n",
        "# \n",
        "# One of the reason for divergence might be that our policy is stochastic (i.e. it randomly samples an action from\n",
        "# the list of available actions), therefore it would take a lot of iterations to converge to the exact solution.\n",
        "#\n",
        "## ==============================================================\n"
      ],
      "execution_count": 0,
      "outputs": [
        {
          "output_type": "stream",
          "text": [
            "TD 0\n",
            "[[ 2.2  1.2  0.8  0.2  1.4  0.3  0.7  0.4  0.3  0.1  0.2  2.4]\n",
            " [ 1.   1.9  1.4  0.4  0.5  0.5  0.3  0.2  0.2  0.1  0.3  3.3]\n",
            " [ 0.4  0.7  1.9  0.5  0.3  0.8  0.2  0.2  0.3  0.1  0.4  4.4]\n",
            " [ 0.3  0.4  0.9  1.3  0.2  0.2  0.1  0.1  0.1  0.   0.6  5.7]\n",
            " [ 1.3  0.7  0.5  0.2  2.3  0.2  1.3  0.6  0.4  0.1  0.2  2.3]\n",
            " [ 0.2  0.2  0.6  0.2  0.1  1.3  0.1  0.2  0.5  0.1  0.5  6. ]\n",
            " [ 0.9  0.5  0.3  0.1  1.4  0.3  2.   1.   0.6  0.2  0.1  2.7]\n",
            " [ 0.3  0.2  0.2  0.1  0.4  0.4  0.7  1.7  1.1  0.3  0.2  4.4]\n",
            " [ 0.2  0.2  0.3  0.1  0.2  0.6  0.3  0.6  1.5  0.4  0.2  5.5]\n",
            " [ 0.   0.   0.   0.   0.   0.   0.   0.   0.   1.   0.   9. ]\n",
            " [ 0.   0.   0.   0.   0.   0.   0.   0.   0.   0.   1.   9. ]\n",
            " [ 0.   0.   0.   0.   0.   0.   0.   0.   0.   0.   0.  10. ]]\n",
            "\n",
            "Calc\n",
            "[[ 2.1  1.2  0.7  0.2  1.3  0.3  0.8  0.4  0.3  0.1  0.2  2.4]\n",
            " [ 1.2  1.9  1.1  0.3  0.7  0.4  0.5  0.3  0.2  0.1  0.3  3.1]\n",
            " [ 0.5  0.7  1.7  0.5  0.3  0.6  0.2  0.2  0.3  0.1  0.4  4.5]\n",
            " [ 0.2  0.3  0.8  1.2  0.1  0.3  0.1  0.1  0.1  0.   0.6  6.1]\n",
            " [ 1.3  0.7  0.5  0.1  2.2  0.3  1.3  0.7  0.4  0.1  0.1  2.3]\n",
            " [ 0.2  0.3  0.6  0.2  0.2  1.3  0.2  0.2  0.5  0.2  0.5  5.7]\n",
            " [ 0.8  0.5  0.3  0.1  1.3  0.3  2.1  1.1  0.6  0.2  0.1  2.7]\n",
            " [ 0.4  0.3  0.3  0.1  0.7  0.4  1.1  1.8  0.9  0.3  0.1  3.7]\n",
            " [ 0.2  0.2  0.3  0.1  0.3  0.5  0.4  0.6  1.4  0.4  0.2  5.5]\n",
            " [ 0.   0.   0.   0.   0.   0.   0.   0.   0.   1.   0.   9. ]\n",
            " [ 0.   0.   0.   0.   0.   0.   0.   0.   0.   0.   1.   9. ]\n",
            " [ 0.   0.   0.   0.   0.   0.   0.   0.   0.   0.   0.  10. ]]\n"
          ],
          "name": "stdout"
        }
      ]
    },
    {
      "metadata": {
        "id": "ARnPJIPCG-TX",
        "colab_type": "text"
      },
      "cell_type": "markdown",
      "source": [
        "## Q2.2 - Value Prediction with SR"
      ]
    },
    {
      "metadata": {
        "id": "shxuommF8xeP",
        "colab_type": "code",
        "colab": {
          "autoexec": {
            "startup": false,
            "wait_interval": 0
          },
          "base_uri": "https://localhost:8080/",
          "height": 125
        },
        "outputId": "63fd47dd-8674-4e3b-cb71-ea608e228bd8",
        "executionInfo": {
          "status": "ok",
          "timestamp": 1523236189699,
          "user_tz": 240,
          "elapsed": 305,
          "user": {
            "displayName": "Philip Paquette",
            "photoUrl": "//lh6.googleusercontent.com/-DGrBTu2a2aw/AAAAAAAAAAI/AAAAAAAAANs/SZizZJUV1nA/s50-c-k-no/photo.jpg",
            "userId": "101375949079620784780"
          }
        }
      },
      "cell_type": "code",
      "source": [
        "# Q2\n",
        "\n",
        "# Computing Value Iteration\n",
        "def policy_evaluation(model, policy):\n",
        "    \"\"\" Evaluates a policy and returns the value at each state \"\"\"\n",
        "    diff = float('inf')\n",
        "    values = {state: 0. for state in model}\n",
        "\n",
        "    # Evaluating policy until convergence\n",
        "    while diff > 1e-5:\n",
        "        diff = 0\n",
        "\n",
        "        # For each initial state, selecting action based on policy and re-evaluating\n",
        "        for state in model:\n",
        "            state_value = 0\n",
        "            for action in policy[state]:\n",
        "                prob_action = 1. / len(policy[state])\n",
        "                for prob, reward, next_state in model[state][action]:\n",
        "                    state_value += prob * prob_action * (reward + GAMMA * values[next_state])\n",
        "            diff += abs(values[state] - state_value)\n",
        "            values[state] = state_value\n",
        "\n",
        "    # Returning values\n",
        "    return values\n",
        "\n",
        "sorted_states = sorted([state for state in env_model])\n",
        "reward_vector = [0., 0., 0., 0., 0., 0., 0., 0., 0., 1., -1., 0.]\n",
        "gvf_values = np.dot(sr_calc, reward_vector)\n",
        "pol_values = policy_evaluation(env_model, initial_pi)\n",
        "pol_values = [pol_values[state] for state in sorted_states]\n",
        "\n",
        "print('-' * 80)\n",
        "print('GVF')\n",
        "print(np.array(gvf_values))\n",
        "print()\n",
        "print('Policy Evaluation')\n",
        "print(np.array(pol_values))\n",
        "\n",
        "## ==============================================================\n",
        "#\n",
        "# Discussion\n",
        "#\n",
        "# We have implemented a very simple reward function, \n",
        "# 1) We get a reward of +1 when exiting from the goal\n",
        "# 2) We get a reward of -1 when exiting from the pit\n",
        "# 3) We get a reward of 0. everywhere else.\n",
        "#\n",
        "# We have implemented policy evaluation to compute the value of every state if we follow our random policy.\n",
        "#\n",
        "# We have also computed the value of every state using the exact SR method calculated in the previous question.\n",
        "#\n",
        "# As expected, both methods converge to the exact same value function.\n",
        "#\n",
        "# i.e. +1 for goal state, -1 for pit, and values between -1 and +1 for the other states.\n",
        "#\n",
        "## =============================================================="
      ],
      "execution_count": 0,
      "outputs": [
        {
          "output_type": "stream",
          "text": [
            "--------------------------------------------------------------------------------\n",
            "GVF\n",
            "[-0.1 -0.2 -0.3 -0.6 -0.  -0.3  0.   0.1  0.2  1.  -1.   0. ]\n",
            "\n",
            "Policy Evaluation\n",
            "[-0.1 -0.2 -0.3 -0.6 -0.  -0.3  0.   0.1  0.2  1.  -1.   0. ]\n"
          ],
          "name": "stdout"
        }
      ]
    },
    {
      "metadata": {
        "id": "pFQ9U-IiHDnC",
        "colab_type": "text"
      },
      "cell_type": "markdown",
      "source": [
        "## Q2.3 - Tracking with SR"
      ]
    },
    {
      "metadata": {
        "id": "pysY9hxa8z91",
        "colab_type": "code",
        "colab": {
          "autoexec": {
            "startup": false,
            "wait_interval": 0
          },
          "base_uri": "https://localhost:8080/",
          "height": 366
        },
        "outputId": "8361d567-f2c3-45bf-81af-e3bb1a1fcb3f",
        "executionInfo": {
          "status": "ok",
          "timestamp": 1523237240798,
          "user_tz": 240,
          "elapsed": 870,
          "user": {
            "displayName": "Philip Paquette",
            "photoUrl": "//lh6.googleusercontent.com/-DGrBTu2a2aw/AAAAAAAAAAI/AAAAAAAAANs/SZizZJUV1nA/s50-c-k-no/photo.jpg",
            "userId": "101375949079620784780"
          }
        }
      },
      "cell_type": "code",
      "source": [
        "# Q3\n",
        "\n",
        "def plot_error_policy_eval(model, policy, reward_vector_1, reward_vector_2, sr_calc):\n",
        "    \"\"\" Plots the rewards error \"\"\"\n",
        "    list_states = sorted([state for state in env_model])\n",
        "    values = {state: 0. for state in model}\n",
        "    errors = []\n",
        "\n",
        "    nb_iters = 0\n",
        "    reward_vector = reward_vector_1\n",
        "    ground_truth = np.dot(sr_calc, reward_vector)\n",
        "    while nb_iters <= 1000:\n",
        "\n",
        "        # For each initial state, selecting action based on policy and re-evaluating\n",
        "        for state in model:\n",
        "            state_value = 0\n",
        "            for action in policy[state]:\n",
        "                prob_action = 1. / len(policy[state])\n",
        "                for prob, _, next_state in model[state][action]:\n",
        "                    reward = reward_vector[list_states.index(state)]\n",
        "                    state_value += prob * prob_action * (reward + GAMMA * values[next_state])\n",
        "\n",
        "            values[state] = state_value\n",
        "            nb_iters += 1\n",
        "            estimate = [values[state] for state in list_states]\n",
        "            errors += [np.sum(np.square(np.array(estimate) - ground_truth))]\n",
        "\n",
        "    # New value function\n",
        "    nb_iters = 0\n",
        "    reward_vector = reward_vector_2\n",
        "    ground_truth = np.dot(sr_calc, reward_vector)\n",
        "    while nb_iters <= 1000:\n",
        "\n",
        "        # For each initial state, selecting action based on policy and re-evaluating\n",
        "        for state in model:\n",
        "            state_value = 0\n",
        "            for action in policy[state]:\n",
        "                prob_action = 1. / len(policy[state])\n",
        "                for prob, _, next_state in model[state][action]:\n",
        "                    reward = reward_vector[list_states.index(state)]\n",
        "                    state_value += prob * prob_action * (reward + GAMMA * values[next_state])\n",
        "\n",
        "            values[state] = state_value\n",
        "            nb_iters += 1\n",
        "            estimate = [values[state] for state in list_states]\n",
        "            errors += [np.sum(np.square(np.array(estimate) - ground_truth))]\n",
        "\n",
        "    # Returning\n",
        "    return errors\n",
        "\n",
        "def plot_error_sr_td0(model, policy, reward_vector_1, reward_vector_2, sr_calc):\n",
        "    \"\"\" Plots the rewards error \"\"\"\n",
        "    errors = []\n",
        "\n",
        "    nb_states = len(model)\n",
        "    M = np.eye(nb_states)\n",
        "    list_states = sorted([state for state in model])\n",
        "    diag = np.eye(nb_states)\n",
        "\n",
        "    # Generating trajectories and performing TD(0)\n",
        "    nb_iters = 0\n",
        "    reward_vector = reward_vector_1\n",
        "    ground_truth = np.dot(sr_calc, reward_vector)\n",
        "    while nb_iters <= 1000:\n",
        "        state = 'cell_0_0'\n",
        "        while True:\n",
        "            actions = policy[state]\n",
        "            action = random.choice(actions)\n",
        "            prob, reward, next_state = random.choice(model[state][action])\n",
        "\n",
        "            s = list_states.index(state)\n",
        "            s_ = list_states.index(next_state)\n",
        "            M[s, :] = M[s, :] + ETA * (diag[s] + GAMMA * M[s_, :] - M[s, :])\n",
        "            nb_iters += 1\n",
        "            estimate = np.dot(M, reward_vector)\n",
        "            errors += [np.sum(np.square(np.array(estimate) - ground_truth))]\n",
        "\n",
        "            if state == 'terminal':\n",
        "                break\n",
        "            state = next_state\n",
        "\n",
        "    # Changing reward fn\n",
        "    nb_iters = 0\n",
        "    reward_vector = reward_vector_2\n",
        "    ground_truth = np.dot(sr_calc, reward_vector)\n",
        "    while nb_iters <= 1000:\n",
        "        state = 'cell_0_0'\n",
        "        while True:\n",
        "            actions = policy[state]\n",
        "            action = random.choice(actions)\n",
        "            prob, reward, next_state = random.choice(model[state][action])\n",
        "\n",
        "            s = list_states.index(state)\n",
        "            s_ = list_states.index(next_state)\n",
        "            M[s, :] = M[s, :] + ETA * (diag[s] + GAMMA * M[s_, :] - M[s, :])\n",
        "            nb_iters += 1\n",
        "            estimate = np.dot(M, reward_vector)\n",
        "            errors += [np.sum(np.square(np.array(estimate) - ground_truth))]\n",
        "\n",
        "            if state == 'terminal':\n",
        "                break\n",
        "            state = next_state\n",
        "\n",
        "    # Return errors\n",
        "    return errors\n",
        "\n",
        "reward_vector_1 = [0., 0., 0., 0., 0., 0., 0., 0., 0., 1., -1., 0.]\n",
        "reward_vector_2 = [0., 0., 0., 0., 0., 0., 0., 0., 0., 1.1, -2., 0.]\n",
        "\n",
        "errors_no_sr = plot_error_policy_eval(env_model, initial_pi, reward_vector_1, reward_vector_2, sr_calc)\n",
        "errors_sr = plot_error_sr_td0(env_model, initial_pi, reward_vector_1, reward_vector_2, sr_calc)\n",
        "\n",
        "import matplotlib.pyplot as plt\n",
        "plt.plot(errors_no_sr, label = \"without SR\")\n",
        "plt.plot(errors_sr, label = \"with SR\")\n",
        "plt.legend()\n",
        "\n",
        "## ==============================================================\n",
        "#\n",
        "# Discussion\n",
        "#\n",
        "# It's not clear if we have to do this question or not, as the questions changed after being posted.\n",
        "#\n",
        "# We computed the value of every state using policy evaluation and SR TD(0)\n",
        "# As requested, we abrutely changed the reward function after 1,000 steps\n",
        "#\n",
        "# From the graph below, we can see that policy evaluation (without SR) has a huge peak after the change of \n",
        "# reward function, but SR TD0 stays relatively constant.\n",
        "#\n",
        "# This is the expected behaviour.\n",
        "#\n",
        "# It can be explained by the fact that SR computes the expected (discounted) occupancy of future states\n",
        "# and is independent of the reward function.\n",
        "#\n",
        "# This is one reason why SR is very useful, especially for multi-task learning.\n",
        "#\n",
        "## =============================================================="
      ],
      "execution_count": 0,
      "outputs": [
        {
          "output_type": "execute_result",
          "data": {
            "text/plain": [
              "<matplotlib.legend.Legend at 0x7f134d559c18>"
            ]
          },
          "metadata": {
            "tags": []
          },
          "execution_count": 11
        },
        {
          "output_type": "display_data",
          "data": {
            "image/png": "[encoded data removed]",
            "text/plain": [
              "<matplotlib.figure.Figure at 0x7f134d81abe0>"
            ]
          },
          "metadata": {
            "tags": []
          }
        }
      ]
    },
    {
      "metadata": {
        "id": "BC77iNL2Gk68",
        "colab_type": "text"
      },
      "cell_type": "markdown",
      "source": [
        "## NB : Discussion are at the end of each snippet of code"
      ]
    },
    {
      "metadata": {
        "id": "x1y3QwOFGmqg",
        "colab_type": "code",
        "colab": {
          "autoexec": {
            "startup": false,
            "wait_interval": 0
          }
        }
      },
      "cell_type": "code",
      "source": [
        ""
      ],
      "execution_count": 0,
      "outputs": []
    }
  ]
}